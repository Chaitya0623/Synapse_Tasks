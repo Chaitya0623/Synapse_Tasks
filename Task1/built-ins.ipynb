{
 "cells": [
  {
   "cell_type": "code",
   "execution_count": 2,
   "metadata": {},
   "outputs": [],
   "source": [
    "modern_family = ['CLaiRe_DunPhY', 'PHiL_dUnpHY', 'GLoRiA_PriTCheTt', 'CaMErOn_TuCKEr', 'StELLa']"
   ]
  },
  {
   "cell_type": "code",
   "execution_count": 3,
   "metadata": {},
   "outputs": [
    {
     "name": "stdout",
     "output_type": "stream",
     "text": [
      "[0, 1, 2, 3, 4]\n",
      "['CLaiRe_DunPhY', 'PHiL_dUnpHY', 'GLoRiA_PriTCheTt', 'CaMErOn_TuCKEr', 'StELLa']\n"
     ]
    }
   ],
   "source": [
    "# enumerate() and append() function\n",
    "indices = []\n",
    "characters = []\n",
    "\n",
    "li = list(enumerate(modern_family))\n",
    "for index,char in li:\n",
    "    indices.append(index)\n",
    "    characters.append(char)\n",
    "print(indices)\n",
    "print(characters)"
   ]
  },
  {
   "cell_type": "code",
   "execution_count": 4,
   "metadata": {},
   "outputs": [
    {
     "name": "stdout",
     "output_type": "stream",
     "text": [
      "['claire-dunphy', 'phil-dunphy', 'gloria-pritchett', 'cameron-tucker', 'stella']\n"
     ]
    }
   ],
   "source": [
    "# lower() and replace() function\n",
    "for c in range(len(characters)):\n",
    "    characters[c] = characters[c].lower()\n",
    "    characters[c] = characters[c].replace('_','-')\n",
    "print(characters)"
   ]
  },
  {
   "cell_type": "code",
   "execution_count": 5,
   "metadata": {},
   "outputs": [
    {
     "name": "stdout",
     "output_type": "stream",
     "text": [
      "[13, 11, 16, 14, 6]\n"
     ]
    }
   ],
   "source": [
    "# lambda, len() and map() function\n",
    "temp = map(lambda c: len(c), characters)\n",
    "temp = list(temp)\n",
    "print(temp)"
   ]
  },
  {
   "cell_type": "code",
   "execution_count": 6,
   "metadata": {},
   "outputs": [
    {
     "name": "stdout",
     "output_type": "stream",
     "text": [
      "[13, 12, 18, 17, 10]\n"
     ]
    }
   ],
   "source": [
    "# zip() and sum() functions\n",
    "sum = [x + y for (x, y) in zip(indices, temp)]\n",
    "indices = sum\n",
    "print(indices)"
   ]
  },
  {
   "cell_type": "code",
   "execution_count": 7,
   "metadata": {},
   "outputs": [
    {
     "name": "stdout",
     "output_type": "stream",
     "text": [
      "[18, 17, 13, 12, 10]\n"
     ]
    }
   ],
   "source": [
    "# sort function for descending order\n",
    "indices.sort(reverse=True)\n",
    "print(indices)"
   ]
  },
  {
   "cell_type": "code",
   "execution_count": 10,
   "metadata": {},
   "outputs": [
    {
     "name": "stdout",
     "output_type": "stream",
     "text": [
      "{18: 'claire-dunphy', 17: 'phil-dunphy', 13: 'gloria-pritchett', 12: 'cameron-tucker', 10: 'stella'}\n"
     ]
    }
   ],
   "source": [
    "Phew_finally = {}\n",
    "for i in range(len(indices)):\n",
    "    Phew_finally[indices[i]] = characters[i]\n",
    "print(Phew_finally)"
   ]
  }
 ],
 "metadata": {
  "kernelspec": {
   "display_name": "Python 3.10.5 64-bit",
   "language": "python",
   "name": "python3"
  },
  "language_info": {
   "codemirror_mode": {
    "name": "ipython",
    "version": 3
   },
   "file_extension": ".py",
   "mimetype": "text/x-python",
   "name": "python",
   "nbconvert_exporter": "python",
   "pygments_lexer": "ipython3",
   "version": "3.10.5"
  },
  "orig_nbformat": 4,
  "vscode": {
   "interpreter": {
    "hash": "c20304d22c5f7985d6688e1254423df0e05a7bac551638e2c0e3a1faa29a357b"
   }
  }
 },
 "nbformat": 4,
 "nbformat_minor": 2
}
