{
 "cells": [
  {
   "cell_type": "code",
   "execution_count": 2,
   "metadata": {},
   "outputs": [],
   "source": [
    "creepy_doll = ['red_light', 'green_light', 'red_light', 'you_got_shot', 'green_light', 'you_got_shot',\n",
    "'you_got_shot', 'green_light', 'you_ got_shot', 'red_light', 'green_light', 'red_light', 'you_got_shot',\n",
    "'green_light','red_light', 'red_light', 'green_light', 'you_got_shot','red_light', 'you_got_shot']"
   ]
  },
  {
   "cell_type": "code",
   "execution_count": 15,
   "metadata": {},
   "outputs": [
    {
     "name": "stdout",
     "output_type": "stream",
     "text": [
      "[['green_light'], ['green_light'], ['green_light'], ['green_light'], ['green_light'], ['green_light']]\n"
     ]
    }
   ],
   "source": [
    "next_game = []\n",
    "for i in range(len(creepy_doll)):\n",
    "    if creepy_doll[i:i+1] == ['green_light']:\n",
    "        next_game.append(creepy_doll[i:i+1])\n",
    "print(next_game)"
   ]
  },
  {
   "cell_type": "markdown",
   "metadata": {},
   "source": [
    "Other Method"
   ]
  },
  {
   "cell_type": "code",
   "execution_count": 11,
   "metadata": {},
   "outputs": [
    {
     "name": "stdout",
     "output_type": "stream",
     "text": [
      "['green_light', 'green_light', 'green_light', 'green_light', 'green_light', 'green_light']\n"
     ]
    }
   ],
   "source": [
    "next_game = creepy_doll[1:2]+creepy_doll[4:5]+creepy_doll[7:8]+creepy_doll[10:11]+creepy_doll[13:14]+creepy_doll[16:17]\n",
    "print(next_game)"
   ]
  }
 ],
 "metadata": {
  "kernelspec": {
   "display_name": "Python 3.10.5 64-bit",
   "language": "python",
   "name": "python3"
  },
  "language_info": {
   "codemirror_mode": {
    "name": "ipython",
    "version": 3
   },
   "file_extension": ".py",
   "mimetype": "text/x-python",
   "name": "python",
   "nbconvert_exporter": "python",
   "pygments_lexer": "ipython3",
   "version": "3.10.5"
  },
  "orig_nbformat": 4,
  "vscode": {
   "interpreter": {
    "hash": "c20304d22c5f7985d6688e1254423df0e05a7bac551638e2c0e3a1faa29a357b"
   }
  }
 },
 "nbformat": 4,
 "nbformat_minor": 2
}
