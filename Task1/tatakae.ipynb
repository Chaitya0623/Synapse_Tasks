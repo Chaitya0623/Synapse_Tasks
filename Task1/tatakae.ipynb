{
 "cells": [
  {
   "cell_type": "code",
   "execution_count": 2,
   "metadata": {},
   "outputs": [],
   "source": [
    "class Titandex:\n",
    "    def __init__(self, name, height, strength, winningstreak=0):\n",
    "        self.name = name\n",
    "        self.height = height\n",
    "        self.strength = strength\n",
    "        self.winningStreak = winningstreak\n",
    "\n",
    "    def TitanVsScout(self):\n",
    "        self.winningStreak = 0\n",
    "        for i in range(9):\n",
    "            scoutName = input(\"Enter Scout Name: \")\n",
    "            scoutStrength = int(input(\"Enter Scout Strength: \"))\n",
    "\n",
    "            print('New Match')\n",
    "            if(self.strength > scoutStrength):\n",
    "                print(self.name + ' Wins against ' + scoutName + ' :)')\n",
    "                self.winningStreak += 1\n",
    "                print(self.name + \"'s Winning Streak is: \" + str(self.winningStreak) + '\\n')\n",
    "            elif(self.strength == scoutStrength):\n",
    "                print(\"It's a Draw! \\n\")\n",
    "            else:\n",
    "                print(self.name + ' Lost to ' + scoutName + ' :(')\n",
    "                print(self.name + \"'s Winning Streak Ends at \" + str(self.winningStreak) + '\\n')\n",
    "                self.winningStreak = 0\n",
    "                break\n",
    "\n",
    "    def TitanVsTitan(self):\n",
    "        self.winningStreak = 0\n",
    "        for i in range(9):\n",
    "            titanName = input(\"Enter Titan Name: \")\n",
    "            titanStrength = int(input(\"Enter Titan Strength: \"))\n",
    "            \n",
    "            if(titanName == self.name):\n",
    "                print('The Titan can not Fight Itself \\n')\n",
    "                continue\n",
    "            else:\n",
    "                print('New Match')\n",
    "                if(self.strength > titanStrength):\n",
    "                    print(self.name + ' Wins against ' + titanName + ' :)')\n",
    "                    self.winningStreak += 1\n",
    "                    print(self.name + \"'s Winning Streak is: \" + str(self.winningStreak) + '\\n')\n",
    "                elif(self.strength == titanStrength):\n",
    "                    print(\"It's a Draw! \\n\")\n",
    "                else:\n",
    "                    print(self.name + ' Lost to ' + titanName + ' :(')\n",
    "                    print(self.name + \"'s Winning Streak Ends at \" + str(self.winningStreak) + '\\n')\n",
    "                    self.winningStreak = 0\n",
    "                    break"
   ]
  },
  {
   "cell_type": "code",
   "execution_count": 3,
   "metadata": {},
   "outputs": [],
   "source": [
    "# Titans\n",
    "Founding_Titan = Titandex('Founding_Titan', 13, 350)\n",
    "Attack_Titan = Titandex('Attack_Titan', 15, 275)\n",
    "Armored_Titan = Titandex('Armored_Titan', 15, 250)\n",
    "Colossal_Titan = Titandex('Colossal_Titan', 60, 300)\n",
    "War_Hammer_Titan = Titandex('War_Hammer_Titan', 15, 235)\n",
    "Beast_Titan = Titandex('Beast_Titan', 17, 250)\n",
    "Cart_Titan = Titandex('Cart_Titan', 4, 175)\n",
    "Female_Titan = Titandex('Female_Titan', 14, 270)\n",
    "Jaw_Titan = Titandex('Jaw_Titan', 5, 225)"
   ]
  },
  {
   "cell_type": "code",
   "execution_count": 4,
   "metadata": {},
   "outputs": [],
   "source": [
    "# Scouts\n",
    "# Levi = Titandex('Levi', 300)\n",
    "# Mikasa = Titandex('Mikasa', 275)\n",
    "# Eren = Titandex('Eren', 270)\n",
    "# Armin = Titandex('Armin', 250)\n",
    "# Erwin = Titandex('Erwin', 275)\n",
    "# Hange = Titandex('Hange', 230)\n",
    "# Jean = Titandex('Jean', 230)\n",
    "# Sasha = Titandex('Sasha', 200)\n",
    "# Connie = Titandex('Connie', 180)"
   ]
  },
  {
   "cell_type": "code",
   "execution_count": 5,
   "metadata": {},
   "outputs": [
    {
     "name": "stdout",
     "output_type": "stream",
     "text": [
      "New Match\n",
      "Founding_Titan Wins against Levi :)\n",
      "Founding_Titan's Winning Streak is: 1\n",
      "\n",
      "New Match\n",
      "It's a Draw! \n",
      "\n",
      "New Match\n",
      "Founding_Titan Lost to Eren :(\n",
      "Founding_Titan's Winning Streak Ends at 1\n",
      "\n"
     ]
    }
   ],
   "source": [
    "Founding_Titan.TitanVsScout()"
   ]
  },
  {
   "cell_type": "code",
   "execution_count": 4,
   "metadata": {},
   "outputs": [
    {
     "name": "stdout",
     "output_type": "stream",
     "text": [
      "New Match\n",
      "Colossal_Titan Wins against Beast_Titan :)\n",
      "Colossal_Titan's Winning Streak is: 1\n",
      "\n",
      "New Match\n",
      "Colossal_Titan Wins against Cart_Titan :)\n",
      "Colossal_Titan's Winning Streak is: 2\n",
      "\n",
      "The Titan can not Fight Itself \n",
      "\n",
      "New Match\n",
      "Colossal_Titan Lost to Founding_Titan :(\n",
      "Colossal_Titan's Winning Streak Ends at 2\n",
      "\n"
     ]
    }
   ],
   "source": [
    "Colossal_Titan.TitanVsTitan()"
   ]
  }
 ],
 "metadata": {
  "kernelspec": {
   "display_name": "Python 3.10.5 64-bit",
   "language": "python",
   "name": "python3"
  },
  "language_info": {
   "codemirror_mode": {
    "name": "ipython",
    "version": 3
   },
   "file_extension": ".py",
   "mimetype": "text/x-python",
   "name": "python",
   "nbconvert_exporter": "python",
   "pygments_lexer": "ipython3",
   "version": "3.10.5"
  },
  "orig_nbformat": 4,
  "vscode": {
   "interpreter": {
    "hash": "c20304d22c5f7985d6688e1254423df0e05a7bac551638e2c0e3a1faa29a357b"
   }
  }
 },
 "nbformat": 4,
 "nbformat_minor": 2
}
